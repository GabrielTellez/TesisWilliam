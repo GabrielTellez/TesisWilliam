{
  "cells": [
    {
      "cell_type": "code",
      "execution_count": 1,
      "id": "475da3ba",
      "metadata": {
        "id": "475da3ba"
      },
      "outputs": [],
      "source": [
        "import torch\n",
        "import matplotlib.pyplot as plt"
      ]
    },
    {
      "cell_type": "code",
      "execution_count": 2,
      "id": "HdJiM9eiik6T",
      "metadata": {
        "id": "HdJiM9eiik6T"
      },
      "outputs": [],
      "source": [
        "torch.cuda.is_available()\n",
        "\n",
        "device = torch.device(\n",
        "                      f'cuda:{torch.cuda.current_device()}') if torch.cuda.is_available() else 'cpu'\n",
        "\n",
        "torch.set_default_device(device)"
      ]
    },
    {
      "cell_type": "code",
      "execution_count": 3,
      "id": "0e42b1ac",
      "metadata": {
        "id": "0e42b1ac"
      },
      "outputs": [],
      "source": [
        "from torch.utils.data import TensorDataset\n",
        "import pandas as pd\n",
        "from torch.utils.data import DataLoader\n",
        "from sklearn.model_selection import train_test_split\n",
        "\n",
        "def CreateDataloader(data,target):\n",
        "\n",
        "  g = torch.Generator(device=data.device)\n",
        "  data_ds = TensorDataset(data,target)\n",
        "  data_dl = DataLoader(data_ds, batch_size=2000, shuffle=True, generator=g)\n",
        "\n",
        "  return data_dl\n",
        "\n",
        "def Preprocessing(data, target):\n",
        "\n",
        "  train_data_, test_data, train_target_, test_target = train_test_split(data, target, test_size=0.2)\n",
        "\n",
        "  train_data, valid_data, train_target, valid_target = train_test_split(train_data_, train_target_, test_size=0.2)\n",
        "  train_dl = CreateDataloader(train_data, train_target)\n",
        "  valid_dl = CreateDataloader(valid_data, valid_target)\n",
        "  return train_dl, valid_dl, test_data, test_target\n",
        "\n",
        "def SaveCSV(data, name):\n",
        "\n",
        "   df_data = pd.DataFrame(data)\n",
        "   df_data.to_csv( name + \".csv\", index=False, header=False)\n",
        "\n",
        "def LoadCSV(name):\n",
        "  data = pd.read_csv( name + \".csv\", header=None).values.flatten()\n",
        "  return torch.tensor(data, dtype=torch.float32).to(device)"
      ]
    },
    {
      "cell_type": "code",
      "execution_count": 4,
      "id": "f1ca9b88",
      "metadata": {
        "id": "f1ca9b88"
      },
      "outputs": [],
      "source": [
        "import numpy as np\n",
        "\n",
        "def BetaSchedule(n_steps, start=1e-4, end=0.02):\n",
        "    \"\"\"\n",
        "    Generates a beta schedule for the forward process.\n",
        "    \"\"\"\n",
        "    return np.linspace(start, end, n_steps)\n",
        "\n",
        "def ForwardProcess(timesteps, initial_data):\n",
        "\n",
        "    \"\"\"\n",
        "    Generates noised data using the forward process. Takes one random timestep\n",
        "    generate a 1D noised data and store it in the noised_data array. This is repeated\n",
        "    for each data point in the initial_data array.\n",
        "    \"\"\"\n",
        "\n",
        "    ndata = len(initial_data)\n",
        "    noised_data = np.zeros(ndata)\n",
        "    noise = np.zeros(ndata)\n",
        "    beta = BetaSchedule(timesteps)\n",
        "    alpha = 1 - beta\n",
        "\n",
        "    for i in range(ndata):\n",
        "\n",
        "        time = np.random.randint(len(beta))\n",
        "        noise[i] = np.random.normal(0,1)\n",
        "        noised_data[i] = initial_data[i]*np.sqrt(np.prod(alpha[:time])) + (1 - np.prod(alpha[:time]))*noise[i]\n",
        "\n",
        "    SaveCSV(noised_data, \"noised_data\")\n",
        "    SaveCSV(noise, \"noise\")\n",
        "\n",
        "    #return  noised_data, noise\n",
        "\n",
        "def GenerateTwoDeltas(ndata):\n",
        "\n",
        "    print(f\"Generating two deltas distribution with {ndata} data points...\")\n",
        "\n",
        "    return np.concatenate([np.ones(ndata//2),-np.ones(ndata//2)])\n",
        "\n",
        "def GenerateNoisedData(timesteps, ndata, initial_distribution):\n",
        "\n",
        "    data = initial_distribution(ndata)\n",
        "\n",
        "    print(\"forward process started...\")\n",
        "\n",
        "    ForwardProcess(timesteps, data)\n",
        "\n",
        "    print(\"forward process ended...\")\n"
      ]
    },
    {
      "cell_type": "code",
      "execution_count": 5,
      "id": "c9a5401b",
      "metadata": {
        "colab": {
          "base_uri": "https://localhost:8080/"
        },
        "id": "c9a5401b",
        "outputId": "cc4f1cca-4b76-4fc5-a4dc-b66d847a7161"
      },
      "outputs": [
        {
          "output_type": "stream",
          "name": "stdout",
          "text": [
            "Generating two deltas distribution with 20000 data points...\n",
            "forward process started...\n",
            "forward process ended...\n"
          ]
        }
      ],
      "source": [
        "GenerateNoisedData(300, 20000, GenerateTwoDeltas)"
      ]
    },
    {
      "cell_type": "code",
      "execution_count": 19,
      "id": "dcc763a9",
      "metadata": {
        "id": "dcc763a9"
      },
      "outputs": [],
      "source": [
        "import torch.nn as nn\n",
        "\n",
        "class FeedForward(nn.Module):\n",
        "\n",
        "  def __init__(self, input_size, output_size,n_hidden_layers,depht):\n",
        "    super().__init__()\n",
        "\n",
        "    l = [nn.Linear(input_size,depht), nn.LeakyReLU(negative_slope=0.01)]\n",
        "    i = 0\n",
        "    while i < n_hidden_layers:\n",
        "      l.append(nn.Linear(depht, depht))\n",
        "      l.append(nn.LeakyReLU(negative_slope=0.01))\n",
        "      i+=1\n",
        "    last_layer = nn.Linear(depht, output_size)\n",
        "    last_layer.bias.data.fill_(0)\n",
        "    l.append(last_layer)\n",
        "\n",
        "    #l.append(nn.Tanh())\n",
        "    self.model_list = nn.ModuleList(l)\n",
        "\n",
        "  def forward(self,x):\n",
        "    for layer in self.model_list:\n",
        "      x = layer(x)\n",
        "    return x"
      ]
    },
    {
      "cell_type": "code",
      "execution_count": 20,
      "id": "9f91c06b",
      "metadata": {
        "id": "9f91c06b"
      },
      "outputs": [],
      "source": [
        "def Train(learning_rate, model, num_epochs, train_dl, valid_dl, test_feature, test_target):\n",
        "\n",
        "    optimizer = torch.optim.Adam(model.parameters(), lr=learning_rate)\n",
        "    loss_fn = nn.MSELoss()\n",
        "\n",
        "    loss_hist_train = np.zeros(num_epochs)\n",
        "    loss_hist_valid = np.zeros(num_epochs)\n",
        "\n",
        "    for epoch in range(num_epochs):\n",
        "\n",
        "      model.train()\n",
        "      train_loss = 0.0\n",
        "\n",
        "      for x_batch, y_batch in train_dl:\n",
        "\n",
        "        x = x_batch.view(x_batch.size(0), -1).detach().clone().requires_grad_(True)\n",
        "        y = y_batch.view(y_batch.size(0), -1).detach().clone().requires_grad_(True)\n",
        "\n",
        "        pred = model(x)\n",
        "            #Define loss function\n",
        "        loss = loss_fn(pred, y)\n",
        "            #Backpropagation\n",
        "        loss.backward()\n",
        "            #Apply gradient to the weights\n",
        "        optimizer.step()\n",
        "            #Make gradients zero\n",
        "        optimizer.zero_grad()\n",
        "        loss_hist_train[epoch] = loss.item()\n",
        "\n",
        "      for x_batch, y_batch in valid_dl:\n",
        "\n",
        "        x = x_batch.view(x_batch.size(0), -1).detach().clone().requires_grad_(True)\n",
        "        y = y_batch.view(y_batch.size(0), -1).detach().clone().requires_grad_(True)\n",
        "\n",
        "        pred = model(x)\n",
        "        loss = loss_fn(pred, y)\n",
        "\n",
        "        loss_hist_valid[epoch] = loss.item()\n",
        "\n",
        "    return loss_hist_train, loss_hist_valid\n",
        "\n",
        "def TrainModel(num_epochs, learning_rate):\n",
        "\n",
        "    model = FeedForward(input_size=1,output_size=1,n_hidden_layers=3,depht=200).to(device)\n",
        "\n",
        "    noised_data, noise = LoadCSV(\"noised_data\"), LoadCSV(\"noise\")\n",
        "    train_dl, valid_dl, test_feature, test_target = Preprocessing(noised_data, noise)\n",
        "\n",
        "\n",
        "\n",
        "    loss_hist_train, loss_hist_valid = Train(learning_rate=learning_rate, model=model, num_epochs=num_epochs,\n",
        "                                           train_dl=train_dl, valid_dl=valid_dl, test_feature=test_feature,\n",
        "                                           test_target=test_target\n",
        "                                           )\n",
        "\n",
        "    pred = model(test_feature.view(test_feature.size(0), -1))\n",
        "\n",
        "    loss_fn = nn.MSELoss()\n",
        "\n",
        "    test_loss = loss_fn(pred, test_target.view(test_target.size(0), -1))\n",
        "\n",
        "    print(f'test error:  {test_loss}')\n",
        "\n",
        "    return model, loss_hist_train, loss_hist_valid"
      ]
    },
    {
      "cell_type": "code",
      "execution_count": 21,
      "id": "4e1c1535",
      "metadata": {
        "colab": {
          "base_uri": "https://localhost:8080/"
        },
        "id": "4e1c1535",
        "outputId": "61a0d46d-d7aa-44fc-db56-b1d7a8e5a4af"
      },
      "outputs": [
        {
          "output_type": "stream",
          "name": "stdout",
          "text": [
            "test error:  0.5233229994773865\n"
          ]
        }
      ],
      "source": [
        "model, loss_hist_train, loss_hist_valid = TrainModel(50, learning_rate=0.01)"
      ]
    },
    {
      "cell_type": "code",
      "execution_count": 22,
      "id": "UOI_4pff9j-p",
      "metadata": {
        "colab": {
          "base_uri": "https://localhost:8080/",
          "height": 430
        },
        "id": "UOI_4pff9j-p",
        "outputId": "4300a462-0197-4449-93d3-28c3a95c1055"
      },
      "outputs": [
        {
          "output_type": "display_data",
          "data": {
            "text/plain": [
              "<Figure size 640x480 with 1 Axes>"
            ],
            "image/png": "[encoded data removed]"
          },
          "metadata": {}
        }
      ],
      "source": [
        "plt.plot(loss_hist_train, label='train')\n",
        "plt.plot(loss_hist_valid, label='valid')\n",
        "plt.legend();"
      ]
    },
    {
      "cell_type": "code",
      "execution_count": null,
      "id": "ZcIhP8IPMD6e",
      "metadata": {
        "colab": {
          "base_uri": "https://localhost:8080/",
          "height": 211
        },
        "id": "ZcIhP8IPMD6e",
        "outputId": "039a04e9-a036-4745-e629-24c1909c5bf0"
      },
      "outputs": [
        {
          "ename": "ValueError",
          "evalue": "too many values to unpack (expected 3)",
          "output_type": "error",
          "traceback": [
            "\u001b[0;31m---------------------------------------------------------------------------\u001b[0m",
            "\u001b[0;31mValueError\u001b[0m                                Traceback (most recent call last)",
            "\u001b[0;32m/tmp/ipython-input-2865696112.py\u001b[0m in \u001b[0;36m<cell line: 0>\u001b[0;34m()\u001b[0m\n\u001b[1;32m      3\u001b[0m \u001b[0mnoised_data\u001b[0m\u001b[0;34m,\u001b[0m \u001b[0mnoise\u001b[0m \u001b[0;34m=\u001b[0m \u001b[0mLoadCSV\u001b[0m\u001b[0;34m(\u001b[0m\u001b[0;34m\"noised_data\"\u001b[0m\u001b[0;34m)\u001b[0m\u001b[0;34m,\u001b[0m \u001b[0mLoadCSV\u001b[0m\u001b[0;34m(\u001b[0m\u001b[0;34m\"noise\"\u001b[0m\u001b[0;34m)\u001b[0m\u001b[0;34m\u001b[0m\u001b[0;34m\u001b[0m\u001b[0m\n\u001b[1;32m      4\u001b[0m \u001b[0;34m\u001b[0m\u001b[0m\n\u001b[0;32m----> 5\u001b[0;31m \u001b[0mtrain_dl\u001b[0m\u001b[0;34m,\u001b[0m \u001b[0mvalid_dl\u001b[0m\u001b[0;34m,\u001b[0m \u001b[0mtest_dl\u001b[0m \u001b[0;34m=\u001b[0m \u001b[0mPreprocessing\u001b[0m\u001b[0;34m(\u001b[0m\u001b[0mnoised_data\u001b[0m\u001b[0;34m,\u001b[0m \u001b[0mnoise\u001b[0m\u001b[0;34m)\u001b[0m\u001b[0;34m\u001b[0m\u001b[0;34m\u001b[0m\u001b[0m\n\u001b[0m\u001b[1;32m      6\u001b[0m \u001b[0;34m\u001b[0m\u001b[0m\n\u001b[1;32m      7\u001b[0m \u001b[0;32mfor\u001b[0m \u001b[0mx_batch\u001b[0m\u001b[0;34m,\u001b[0m \u001b[0my_batch\u001b[0m \u001b[0;32min\u001b[0m \u001b[0mtrain_dl\u001b[0m\u001b[0;34m:\u001b[0m\u001b[0;34m\u001b[0m\u001b[0;34m\u001b[0m\u001b[0m\n",
            "\u001b[0;31mValueError\u001b[0m: too many values to unpack (expected 3)"
          ]
        }
      ],
      "source": [
        "model = FeedForward(input_size=1,output_size=1,n_hidden_layers=1,depht=100).to(device)\n",
        "\n",
        "noised_data, noise = LoadCSV(\"noised_data\"), LoadCSV(\"noise\")\n",
        "\n",
        "train_dl, valid_dl, test_dl = Preprocessing(noised_data, noise)\n",
        "\n",
        "for x_batch, y_batch in train_dl:\n",
        "\n",
        "  x = x_batch.view(x_batch.size(0), -1).detach().clone().requires_grad_(True)\n",
        "  y = y_batch.view(y_batch.size(0), -1).detach().clone().requires_grad_(True)\n",
        "\n",
        "  pred = model(x).to('cpu')\n",
        "\n",
        "  plt.hist(pred.detach().numpy(),25)\n",
        "\n",
        "  break"
      ]
    },
    {
      "cell_type": "code",
      "execution_count": null,
      "id": "GD8MOMTX_KvE",
      "metadata": {
        "id": "GD8MOMTX_KvE"
      },
      "outputs": [],
      "source": []
    }
  ],
  "metadata": {
    "colab": {
      "provenance": []
    },
    "kernelspec": {
      "display_name": "Python 3",
      "name": "python3"
    },
    "language_info": {
      "codemirror_mode": {
        "name": "ipython",
        "version": 3
      },
      "file_extension": ".py",
      "mimetype": "text/x-python",
      "name": "python",
      "nbconvert_exporter": "python",
      "pygments_lexer": "ipython3",
      "version": "3.10.12"
    }
  },
  "nbformat": 4,
  "nbformat_minor": 5
}