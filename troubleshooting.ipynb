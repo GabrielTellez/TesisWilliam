{
  "cells": [
    {
      "cell_type": "code",
      "execution_count": 86,
      "id": "475da3ba",
      "metadata": {
        "id": "475da3ba"
      },
      "outputs": [],
      "source": [
        "import torch\n",
        "import matplotlib.pyplot as plt"
      ]
    },
    {
      "cell_type": "code",
      "source": [
        "torch.cuda.is_available()\n",
        "\n",
        "device = torch.device(\n",
        "                      f'cuda:{torch.cuda.current_device()}') if torch.cuda.is_available() else 'cpu'\n",
        "\n",
        "torch.set_default_device(device)"
      ],
      "metadata": {
        "id": "HdJiM9eiik6T"
      },
      "id": "HdJiM9eiik6T",
      "execution_count": 87,
      "outputs": []
    },
    {
      "cell_type": "code",
      "execution_count": 88,
      "id": "0e42b1ac",
      "metadata": {
        "id": "0e42b1ac"
      },
      "outputs": [],
      "source": [
        "from torch.utils.data import TensorDataset\n",
        "import pandas as pd\n",
        "from torch.utils.data import DataLoader\n",
        "from sklearn.model_selection import train_test_split\n",
        "\n",
        "def CreateDataloader(data,target):\n",
        "\n",
        "  g = torch.Generator(device=data.device)\n",
        "  data_ds = TensorDataset(data,target)\n",
        "  data_dl = DataLoader(data_ds, batch_size=500, shuffle=True, generator=g)\n",
        "\n",
        "  return data_dl\n",
        "\n",
        "def Preprocessing(data, target):\n",
        "\n",
        "  train_data_, test_data, train_target_, test_target = train_test_split(data, target, test_size=0.2)\n",
        "\n",
        "  train_data, valid_data, train_target, valid_target = train_test_split(train_data_, train_target_, test_size=0.2)\n",
        "  train_dl = CreateDataloader(train_data, train_target)\n",
        "  valid_dl = CreateDataloader(valid_data, valid_target)\n",
        "  return train_dl, valid_dl, test_data, test_target\n",
        "\n",
        "def SaveCSV(data, name):\n",
        "\n",
        "   df_data = pd.DataFrame(data)\n",
        "   df_data.to_csv( name + \".csv\", index=False, header=False)\n",
        "\n",
        "def LoadCSV(name):\n",
        "  data = pd.read_csv( name + \".csv\", header=None).values.flatten()\n",
        "  return torch.tensor(data, dtype=torch.float32).to(device)"
      ]
    },
    {
      "cell_type": "code",
      "execution_count": 89,
      "id": "f1ca9b88",
      "metadata": {
        "id": "f1ca9b88"
      },
      "outputs": [],
      "source": [
        "import numpy as np\n",
        "\n",
        "def BetaSchedule(n_steps, start=1e-4, end=0.02):\n",
        "    \"\"\"\n",
        "    Generates a beta schedule for the forward process.\n",
        "    \"\"\"\n",
        "    return np.linspace(start, end, n_steps)\n",
        "\n",
        "def ForwardProcess(timesteps, initial_data):\n",
        "\n",
        "    \"\"\"\n",
        "    Generates noised data using the forward process. Takes one random timestep\n",
        "    generate a 1D noised data and store it in the noised_data array. This is repeated\n",
        "    for each data point in the initial_data array.\n",
        "    \"\"\"\n",
        "\n",
        "    ndata = len(initial_data)\n",
        "    noised_data = np.zeros(ndata)\n",
        "    noise = np.zeros(ndata)\n",
        "    beta = BetaSchedule(timesteps)\n",
        "    alpha = 1 - beta\n",
        "\n",
        "    for i in range(ndata):\n",
        "\n",
        "        time = np.random.randint(len(beta))\n",
        "        noise[i] = np.random.normal(0,1)\n",
        "        noised_data[i] = initial_data[i]*np.sqrt(np.prod(alpha[:i])) + (1 - np.prod(alpha[:i]))*noise[i]\n",
        "\n",
        "    SaveCSV(noised_data, \"noised_data\")\n",
        "    SaveCSV(noise, \"noise\")\n",
        "\n",
        "    #return  noised_data, noise\n",
        "\n",
        "def GenerateTwoDeltas(ndata):\n",
        "\n",
        "    print(f\"Generating two deltas distribution with {ndata} data points...\")\n",
        "\n",
        "    return np.concatenate([np.ones(ndata//2),-np.ones(ndata//2)])\n",
        "\n",
        "def GenerateNoisedData(timesteps, ndata, initial_distribution):\n",
        "\n",
        "    data = initial_distribution(ndata)\n",
        "\n",
        "    print(\"forward process started...\")\n",
        "\n",
        "    ForwardProcess(timesteps, data)\n",
        "\n",
        "    print(\"forward process ended...\")\n"
      ]
    },
    {
      "cell_type": "code",
      "execution_count": 90,
      "id": "c9a5401b",
      "metadata": {
        "id": "c9a5401b",
        "outputId": "67d1835d-5547-47fa-aecf-79b9949ad6c9",
        "colab": {
          "base_uri": "https://localhost:8080/"
        }
      },
      "outputs": [
        {
          "output_type": "stream",
          "name": "stdout",
          "text": [
            "Generating two deltas distribution with 20000 data points...\n",
            "forward process started...\n",
            "forward process ended...\n"
          ]
        }
      ],
      "source": [
        "GenerateNoisedData(300, 20000, GenerateTwoDeltas)"
      ]
    },
    {
      "cell_type": "code",
      "execution_count": 91,
      "id": "dcc763a9",
      "metadata": {
        "id": "dcc763a9"
      },
      "outputs": [],
      "source": [
        "import torch.nn as nn\n",
        "\n",
        "class FeedForward(nn.Module):\n",
        "\n",
        "  def __init__(self, input_size, output_size,n_hidden_layers,depht):\n",
        "    super().__init__()\n",
        "\n",
        "    l = [nn.Linear(input_size,depht), nn.ReLU()]\n",
        "    i = 0\n",
        "    while i < n_hidden_layers:\n",
        "      l.append(nn.Linear(depht, depht))\n",
        "      l.append(nn.ReLU())\n",
        "      i+=1\n",
        "    last_layer = nn.Linear(depht, output_size)\n",
        "    last_layer.bias.data.fill_(0)\n",
        "    l.append(last_layer)\n",
        "\n",
        "    #l.append(nn.Tanh())\n",
        "    self.model_list = nn.ModuleList(l)\n",
        "\n",
        "  def forward(self,x):\n",
        "    for layer in self.model_list:\n",
        "      x = layer(x)\n",
        "    return x"
      ]
    },
    {
      "cell_type": "code",
      "execution_count": 117,
      "id": "9f91c06b",
      "metadata": {
        "id": "9f91c06b"
      },
      "outputs": [],
      "source": [
        "def Train(learning_rate, model, num_epochs, train_dl, valid_dl, test_feature, test_target):\n",
        "\n",
        "    optimizer = torch.optim.Adam(model.parameters(), lr=learning_rate)\n",
        "    loss_fn = nn.MSELoss()\n",
        "\n",
        "    loss_hist_train = np.zeros(num_epochs)\n",
        "    loss_hist_valid = np.zeros(num_epochs)\n",
        "\n",
        "    for epoch in range(num_epochs):\n",
        "\n",
        "      model.train()\n",
        "      train_loss = 0.0\n",
        "\n",
        "      for x_batch, y_batch in train_dl:\n",
        "\n",
        "        x = x_batch.view(x_batch.size(0), -1).detach().clone().requires_grad_(True)\n",
        "        y = y_batch.view(y_batch.size(0), -1).detach().clone().requires_grad_(True)\n",
        "\n",
        "        pred = model(x)\n",
        "            #Define loss function\n",
        "        loss = loss_fn(pred, y)\n",
        "            #Backpropagation\n",
        "        loss.backward()\n",
        "            #Apply gradient to the weights\n",
        "        optimizer.step()\n",
        "            #Make gradients zero\n",
        "        optimizer.zero_grad()\n",
        "        loss_hist_train[epoch] += loss.item()*y_batch.size(0)\n",
        "\n",
        "      for x_batch, y_batch in valid_dl:\n",
        "\n",
        "        x = x_batch.view(x_batch.size(0), -1).detach().clone().requires_grad_(True)\n",
        "        y = y_batch.view(y_batch.size(0), -1).detach().clone().requires_grad_(True)\n",
        "\n",
        "        pred = model(x)\n",
        "        loss = loss_fn(pred, y)\n",
        "\n",
        "        loss_hist_valid[epoch] += loss.item()*y_batch.size(0)\n",
        "\n",
        "      loss_hist_train[epoch] /= len(train_dl.dataset)\n",
        "      loss_hist_valid[epoch] /= len(valid_dl.dataset)\n",
        "\n",
        "    return loss_hist_train, loss_hist_valid\n",
        "\n",
        "def TrainModel(num_epochs, learning_rate):\n",
        "\n",
        "    model = FeedForward(input_size=1,output_size=1,n_hidden_layers=2,depht=100).to(device)\n",
        "\n",
        "    noised_data, noise = LoadCSV(\"noised_data\"), LoadCSV(\"noise\")\n",
        "    train_dl, valid_dl, test_feature, test_target = Preprocessing(noised_data, noise)\n",
        "\n",
        "\n",
        "    loss_hist_train, loss_hist_valid = Train(learning_rate=learning_rate, model=model, num_epochs=num_epochs,\n",
        "                                           train_dl=train_dl, valid_dl=valid_dl, test_feature=test_feature,\n",
        "                                           test_target=test_target\n",
        "                                           )\n",
        "\n",
        "    return model, loss_hist_train, loss_hist_valid"
      ]
    },
    {
      "cell_type": "code",
      "execution_count": 118,
      "id": "4e1c1535",
      "metadata": {
        "id": "4e1c1535",
        "outputId": "c4b9c084-c21e-4064-9ec5-e6cf709b41c3",
        "colab": {
          "base_uri": "https://localhost:8080/",
          "height": 293
        }
      },
      "outputs": [
        {
          "output_type": "error",
          "ename": "RuntimeError",
          "evalue": "mat1 and mat2 shapes cannot be multiplied (1x4000 and 1x100)",
          "traceback": [
            "\u001b[0;31m---------------------------------------------------------------------------\u001b[0m",
            "\u001b[0;31mRuntimeError\u001b[0m                              Traceback (most recent call last)",
            "\u001b[0;32m/tmp/ipython-input-3037231847.py\u001b[0m in \u001b[0;36m<cell line: 0>\u001b[0;34m()\u001b[0m\n\u001b[0;32m----> 1\u001b[0;31m \u001b[0mmodel\u001b[0m\u001b[0;34m,\u001b[0m \u001b[0mloss_hist_train\u001b[0m\u001b[0;34m,\u001b[0m \u001b[0mloss_hist_valid\u001b[0m \u001b[0;34m=\u001b[0m \u001b[0mTrainModel\u001b[0m\u001b[0;34m(\u001b[0m\u001b[0;36m50\u001b[0m\u001b[0;34m,\u001b[0m \u001b[0mlearning_rate\u001b[0m\u001b[0;34m=\u001b[0m\u001b[0;36m0.01\u001b[0m\u001b[0;34m)\u001b[0m\u001b[0;34m\u001b[0m\u001b[0;34m\u001b[0m\u001b[0m\n\u001b[0m",
            "\u001b[0;32m/tmp/ipython-input-3223014823.py\u001b[0m in \u001b[0;36mTrainModel\u001b[0;34m(num_epochs, learning_rate)\u001b[0m\n\u001b[1;32m     64\u001b[0m \u001b[0;34m\u001b[0m\u001b[0m\n\u001b[1;32m     65\u001b[0m \u001b[0;34m\u001b[0m\u001b[0m\n\u001b[0;32m---> 66\u001b[0;31m     loss_hist_train, loss_hist_valid = Train(learning_rate=learning_rate, model=model, num_epochs=num_epochs,\n\u001b[0m\u001b[1;32m     67\u001b[0m                                            \u001b[0mtrain_dl\u001b[0m\u001b[0;34m=\u001b[0m\u001b[0mtrain_dl\u001b[0m\u001b[0;34m,\u001b[0m \u001b[0mvalid_dl\u001b[0m\u001b[0;34m=\u001b[0m\u001b[0mvalid_dl\u001b[0m\u001b[0;34m,\u001b[0m \u001b[0mtest_feature\u001b[0m\u001b[0;34m=\u001b[0m\u001b[0mtest_feature\u001b[0m\u001b[0;34m,\u001b[0m\u001b[0;34m\u001b[0m\u001b[0;34m\u001b[0m\u001b[0m\n\u001b[1;32m     68\u001b[0m                                            \u001b[0mtest_target\u001b[0m\u001b[0;34m=\u001b[0m\u001b[0mtest_target\u001b[0m\u001b[0;34m\u001b[0m\u001b[0;34m\u001b[0m\u001b[0m\n",
            "\u001b[0;32m/tmp/ipython-input-3223014823.py\u001b[0m in \u001b[0;36mTrain\u001b[0;34m(learning_rate, model, num_epochs, train_dl, valid_dl, test_feature, test_target)\u001b[0m\n\u001b[1;32m     50\u001b[0m     \u001b[0;31m#print(model(x_test).shape)\u001b[0m\u001b[0;34m\u001b[0m\u001b[0;34m\u001b[0m\u001b[0m\n\u001b[1;32m     51\u001b[0m \u001b[0;34m\u001b[0m\u001b[0m\n\u001b[0;32m---> 52\u001b[0;31m     \u001b[0mtest_loss\u001b[0m \u001b[0;34m=\u001b[0m \u001b[0mloss_fn\u001b[0m\u001b[0;34m(\u001b[0m\u001b[0mmodel\u001b[0m\u001b[0;34m(\u001b[0m\u001b[0mtest_feature\u001b[0m\u001b[0;34m.\u001b[0m\u001b[0mview\u001b[0m\u001b[0;34m(\u001b[0m\u001b[0;34m-\u001b[0m\u001b[0;36m1\u001b[0m\u001b[0;34m)\u001b[0m\u001b[0;34m)\u001b[0m\u001b[0;34m,\u001b[0m \u001b[0mtest_target\u001b[0m\u001b[0;34m)\u001b[0m\u001b[0;34m\u001b[0m\u001b[0;34m\u001b[0m\u001b[0m\n\u001b[0m\u001b[1;32m     53\u001b[0m \u001b[0;34m\u001b[0m\u001b[0m\n\u001b[1;32m     54\u001b[0m     \u001b[0mprint\u001b[0m\u001b[0;34m(\u001b[0m\u001b[0;34mf\"Test loss: {test_loss}\"\u001b[0m\u001b[0;34m)\u001b[0m\u001b[0;34m\u001b[0m\u001b[0;34m\u001b[0m\u001b[0m\n",
            "\u001b[0;32m/usr/local/lib/python3.12/dist-packages/torch/nn/modules/module.py\u001b[0m in \u001b[0;36m_wrapped_call_impl\u001b[0;34m(self, *args, **kwargs)\u001b[0m\n\u001b[1;32m   1771\u001b[0m             \u001b[0;32mreturn\u001b[0m \u001b[0mself\u001b[0m\u001b[0;34m.\u001b[0m\u001b[0m_compiled_call_impl\u001b[0m\u001b[0;34m(\u001b[0m\u001b[0;34m*\u001b[0m\u001b[0margs\u001b[0m\u001b[0;34m,\u001b[0m \u001b[0;34m**\u001b[0m\u001b[0mkwargs\u001b[0m\u001b[0;34m)\u001b[0m  \u001b[0;31m# type: ignore[misc]\u001b[0m\u001b[0;34m\u001b[0m\u001b[0;34m\u001b[0m\u001b[0m\n\u001b[1;32m   1772\u001b[0m         \u001b[0;32melse\u001b[0m\u001b[0;34m:\u001b[0m\u001b[0;34m\u001b[0m\u001b[0;34m\u001b[0m\u001b[0m\n\u001b[0;32m-> 1773\u001b[0;31m             \u001b[0;32mreturn\u001b[0m \u001b[0mself\u001b[0m\u001b[0;34m.\u001b[0m\u001b[0m_call_impl\u001b[0m\u001b[0;34m(\u001b[0m\u001b[0;34m*\u001b[0m\u001b[0margs\u001b[0m\u001b[0;34m,\u001b[0m \u001b[0;34m**\u001b[0m\u001b[0mkwargs\u001b[0m\u001b[0;34m)\u001b[0m\u001b[0;34m\u001b[0m\u001b[0;34m\u001b[0m\u001b[0m\n\u001b[0m\u001b[1;32m   1774\u001b[0m \u001b[0;34m\u001b[0m\u001b[0m\n\u001b[1;32m   1775\u001b[0m     \u001b[0;31m# torchrec tests the code consistency with the following code\u001b[0m\u001b[0;34m\u001b[0m\u001b[0;34m\u001b[0m\u001b[0m\n",
            "\u001b[0;32m/usr/local/lib/python3.12/dist-packages/torch/nn/modules/module.py\u001b[0m in \u001b[0;36m_call_impl\u001b[0;34m(self, *args, **kwargs)\u001b[0m\n\u001b[1;32m   1782\u001b[0m                 \u001b[0;32mor\u001b[0m \u001b[0m_global_backward_pre_hooks\u001b[0m \u001b[0;32mor\u001b[0m \u001b[0m_global_backward_hooks\u001b[0m\u001b[0;34m\u001b[0m\u001b[0;34m\u001b[0m\u001b[0m\n\u001b[1;32m   1783\u001b[0m                 or _global_forward_hooks or _global_forward_pre_hooks):\n\u001b[0;32m-> 1784\u001b[0;31m             \u001b[0;32mreturn\u001b[0m \u001b[0mforward_call\u001b[0m\u001b[0;34m(\u001b[0m\u001b[0;34m*\u001b[0m\u001b[0margs\u001b[0m\u001b[0;34m,\u001b[0m \u001b[0;34m**\u001b[0m\u001b[0mkwargs\u001b[0m\u001b[0;34m)\u001b[0m\u001b[0;34m\u001b[0m\u001b[0;34m\u001b[0m\u001b[0m\n\u001b[0m\u001b[1;32m   1785\u001b[0m \u001b[0;34m\u001b[0m\u001b[0m\n\u001b[1;32m   1786\u001b[0m         \u001b[0mresult\u001b[0m \u001b[0;34m=\u001b[0m \u001b[0;32mNone\u001b[0m\u001b[0;34m\u001b[0m\u001b[0;34m\u001b[0m\u001b[0m\n",
            "\u001b[0;32m/tmp/ipython-input-2032351761.py\u001b[0m in \u001b[0;36mforward\u001b[0;34m(self, x)\u001b[0m\n\u001b[1;32m     21\u001b[0m   \u001b[0;32mdef\u001b[0m \u001b[0mforward\u001b[0m\u001b[0;34m(\u001b[0m\u001b[0mself\u001b[0m\u001b[0;34m,\u001b[0m\u001b[0mx\u001b[0m\u001b[0;34m)\u001b[0m\u001b[0;34m:\u001b[0m\u001b[0;34m\u001b[0m\u001b[0;34m\u001b[0m\u001b[0m\n\u001b[1;32m     22\u001b[0m     \u001b[0;32mfor\u001b[0m \u001b[0mlayer\u001b[0m \u001b[0;32min\u001b[0m \u001b[0mself\u001b[0m\u001b[0;34m.\u001b[0m\u001b[0mmodel_list\u001b[0m\u001b[0;34m:\u001b[0m\u001b[0;34m\u001b[0m\u001b[0;34m\u001b[0m\u001b[0m\n\u001b[0;32m---> 23\u001b[0;31m       \u001b[0mx\u001b[0m \u001b[0;34m=\u001b[0m \u001b[0mlayer\u001b[0m\u001b[0;34m(\u001b[0m\u001b[0mx\u001b[0m\u001b[0;34m)\u001b[0m\u001b[0;34m\u001b[0m\u001b[0;34m\u001b[0m\u001b[0m\n\u001b[0m\u001b[1;32m     24\u001b[0m     \u001b[0;32mreturn\u001b[0m \u001b[0mx\u001b[0m\u001b[0;34m\u001b[0m\u001b[0;34m\u001b[0m\u001b[0m\n",
            "\u001b[0;32m/usr/local/lib/python3.12/dist-packages/torch/nn/modules/module.py\u001b[0m in \u001b[0;36m_wrapped_call_impl\u001b[0;34m(self, *args, **kwargs)\u001b[0m\n\u001b[1;32m   1771\u001b[0m             \u001b[0;32mreturn\u001b[0m \u001b[0mself\u001b[0m\u001b[0;34m.\u001b[0m\u001b[0m_compiled_call_impl\u001b[0m\u001b[0;34m(\u001b[0m\u001b[0;34m*\u001b[0m\u001b[0margs\u001b[0m\u001b[0;34m,\u001b[0m \u001b[0;34m**\u001b[0m\u001b[0mkwargs\u001b[0m\u001b[0;34m)\u001b[0m  \u001b[0;31m# type: ignore[misc]\u001b[0m\u001b[0;34m\u001b[0m\u001b[0;34m\u001b[0m\u001b[0m\n\u001b[1;32m   1772\u001b[0m         \u001b[0;32melse\u001b[0m\u001b[0;34m:\u001b[0m\u001b[0;34m\u001b[0m\u001b[0;34m\u001b[0m\u001b[0m\n\u001b[0;32m-> 1773\u001b[0;31m             \u001b[0;32mreturn\u001b[0m \u001b[0mself\u001b[0m\u001b[0;34m.\u001b[0m\u001b[0m_call_impl\u001b[0m\u001b[0;34m(\u001b[0m\u001b[0;34m*\u001b[0m\u001b[0margs\u001b[0m\u001b[0;34m,\u001b[0m \u001b[0;34m**\u001b[0m\u001b[0mkwargs\u001b[0m\u001b[0;34m)\u001b[0m\u001b[0;34m\u001b[0m\u001b[0;34m\u001b[0m\u001b[0m\n\u001b[0m\u001b[1;32m   1774\u001b[0m \u001b[0;34m\u001b[0m\u001b[0m\n\u001b[1;32m   1775\u001b[0m     \u001b[0;31m# torchrec tests the code consistency with the following code\u001b[0m\u001b[0;34m\u001b[0m\u001b[0;34m\u001b[0m\u001b[0m\n",
            "\u001b[0;32m/usr/local/lib/python3.12/dist-packages/torch/nn/modules/module.py\u001b[0m in \u001b[0;36m_call_impl\u001b[0;34m(self, *args, **kwargs)\u001b[0m\n\u001b[1;32m   1782\u001b[0m                 \u001b[0;32mor\u001b[0m \u001b[0m_global_backward_pre_hooks\u001b[0m \u001b[0;32mor\u001b[0m \u001b[0m_global_backward_hooks\u001b[0m\u001b[0;34m\u001b[0m\u001b[0;34m\u001b[0m\u001b[0m\n\u001b[1;32m   1783\u001b[0m                 or _global_forward_hooks or _global_forward_pre_hooks):\n\u001b[0;32m-> 1784\u001b[0;31m             \u001b[0;32mreturn\u001b[0m \u001b[0mforward_call\u001b[0m\u001b[0;34m(\u001b[0m\u001b[0;34m*\u001b[0m\u001b[0margs\u001b[0m\u001b[0;34m,\u001b[0m \u001b[0;34m**\u001b[0m\u001b[0mkwargs\u001b[0m\u001b[0;34m)\u001b[0m\u001b[0;34m\u001b[0m\u001b[0;34m\u001b[0m\u001b[0m\n\u001b[0m\u001b[1;32m   1785\u001b[0m \u001b[0;34m\u001b[0m\u001b[0m\n\u001b[1;32m   1786\u001b[0m         \u001b[0mresult\u001b[0m \u001b[0;34m=\u001b[0m \u001b[0;32mNone\u001b[0m\u001b[0;34m\u001b[0m\u001b[0;34m\u001b[0m\u001b[0m\n",
            "\u001b[0;32m/usr/local/lib/python3.12/dist-packages/torch/nn/modules/linear.py\u001b[0m in \u001b[0;36mforward\u001b[0;34m(self, input)\u001b[0m\n\u001b[1;32m    123\u001b[0m \u001b[0;34m\u001b[0m\u001b[0m\n\u001b[1;32m    124\u001b[0m     \u001b[0;32mdef\u001b[0m \u001b[0mforward\u001b[0m\u001b[0;34m(\u001b[0m\u001b[0mself\u001b[0m\u001b[0;34m,\u001b[0m \u001b[0minput\u001b[0m\u001b[0;34m:\u001b[0m \u001b[0mTensor\u001b[0m\u001b[0;34m)\u001b[0m \u001b[0;34m->\u001b[0m \u001b[0mTensor\u001b[0m\u001b[0;34m:\u001b[0m\u001b[0;34m\u001b[0m\u001b[0;34m\u001b[0m\u001b[0m\n\u001b[0;32m--> 125\u001b[0;31m         \u001b[0;32mreturn\u001b[0m \u001b[0mF\u001b[0m\u001b[0;34m.\u001b[0m\u001b[0mlinear\u001b[0m\u001b[0;34m(\u001b[0m\u001b[0minput\u001b[0m\u001b[0;34m,\u001b[0m \u001b[0mself\u001b[0m\u001b[0;34m.\u001b[0m\u001b[0mweight\u001b[0m\u001b[0;34m,\u001b[0m \u001b[0mself\u001b[0m\u001b[0;34m.\u001b[0m\u001b[0mbias\u001b[0m\u001b[0;34m)\u001b[0m\u001b[0;34m\u001b[0m\u001b[0;34m\u001b[0m\u001b[0m\n\u001b[0m\u001b[1;32m    126\u001b[0m \u001b[0;34m\u001b[0m\u001b[0m\n\u001b[1;32m    127\u001b[0m     \u001b[0;32mdef\u001b[0m \u001b[0mextra_repr\u001b[0m\u001b[0;34m(\u001b[0m\u001b[0mself\u001b[0m\u001b[0;34m)\u001b[0m \u001b[0;34m->\u001b[0m \u001b[0mstr\u001b[0m\u001b[0;34m:\u001b[0m\u001b[0;34m\u001b[0m\u001b[0;34m\u001b[0m\u001b[0m\n",
            "\u001b[0;32m/usr/local/lib/python3.12/dist-packages/torch/utils/_device.py\u001b[0m in \u001b[0;36m__torch_function__\u001b[0;34m(self, func, types, args, kwargs)\u001b[0m\n\u001b[1;32m    101\u001b[0m         \u001b[0;32mif\u001b[0m \u001b[0mfunc\u001b[0m \u001b[0;32min\u001b[0m \u001b[0m_device_constructors\u001b[0m\u001b[0;34m(\u001b[0m\u001b[0;34m)\u001b[0m \u001b[0;32mand\u001b[0m \u001b[0mkwargs\u001b[0m\u001b[0;34m.\u001b[0m\u001b[0mget\u001b[0m\u001b[0;34m(\u001b[0m\u001b[0;34m\"device\"\u001b[0m\u001b[0;34m)\u001b[0m \u001b[0;32mis\u001b[0m \u001b[0;32mNone\u001b[0m\u001b[0;34m:\u001b[0m\u001b[0;34m\u001b[0m\u001b[0;34m\u001b[0m\u001b[0m\n\u001b[1;32m    102\u001b[0m             \u001b[0mkwargs\u001b[0m\u001b[0;34m[\u001b[0m\u001b[0;34m\"device\"\u001b[0m\u001b[0;34m]\u001b[0m \u001b[0;34m=\u001b[0m \u001b[0mself\u001b[0m\u001b[0;34m.\u001b[0m\u001b[0mdevice\u001b[0m\u001b[0;34m\u001b[0m\u001b[0;34m\u001b[0m\u001b[0m\n\u001b[0;32m--> 103\u001b[0;31m         \u001b[0;32mreturn\u001b[0m \u001b[0mfunc\u001b[0m\u001b[0;34m(\u001b[0m\u001b[0;34m*\u001b[0m\u001b[0margs\u001b[0m\u001b[0;34m,\u001b[0m \u001b[0;34m**\u001b[0m\u001b[0mkwargs\u001b[0m\u001b[0;34m)\u001b[0m\u001b[0;34m\u001b[0m\u001b[0;34m\u001b[0m\u001b[0m\n\u001b[0m\u001b[1;32m    104\u001b[0m \u001b[0;34m\u001b[0m\u001b[0m\n\u001b[1;32m    105\u001b[0m \u001b[0;34m\u001b[0m\u001b[0m\n",
            "\u001b[0;31mRuntimeError\u001b[0m: mat1 and mat2 shapes cannot be multiplied (1x4000 and 1x100)"
          ]
        }
      ],
      "source": [
        "model, loss_hist_train, loss_hist_valid = TrainModel(50, learning_rate=0.01)"
      ]
    },
    {
      "cell_type": "code",
      "source": [
        "plt.plot(loss_hist_train, label='train')\n",
        "plt.plot(loss_hist_valid, label='valid')\n",
        "plt.legend();"
      ],
      "metadata": {
        "id": "UOI_4pff9j-p",
        "outputId": "e7958243-fb2b-4ceb-c511-a70318285585",
        "colab": {
          "base_uri": "https://localhost:8080/",
          "height": 430
        }
      },
      "id": "UOI_4pff9j-p",
      "execution_count": 318,
      "outputs": [
        {
          "output_type": "display_data",
          "data": {
            "text/plain": [
              "<Figure size 640x480 with 1 Axes>"
            ],
            "image/png": "[encoded data removed]"
          },
          "metadata": {}
        }
      ]
    },
    {
      "cell_type": "code",
      "source": [
        "model = FeedForward(input_size=1,output_size=1,n_hidden_layers=1,depht=100).to(device)\n",
        "\n",
        "noised_data, noise = LoadCSV(\"noised_data\"), LoadCSV(\"noise\")\n",
        "\n",
        "train_dl, valid_dl, test_dl = Preprocessing(noised_data, noise)\n",
        "\n",
        "for x_batch, y_batch in train_dl:\n",
        "\n",
        "  x = x_batch.view(x_batch.size(0), -1).detach().clone().requires_grad_(True)\n",
        "  y = y_batch.view(y_batch.size(0), -1).detach().clone().requires_grad_(True)\n",
        "\n",
        "  pred = model(x).to('cpu')\n",
        "\n",
        "  plt.hist(pred.detach().numpy(),25)\n",
        "\n",
        "  break"
      ],
      "metadata": {
        "colab": {
          "base_uri": "https://localhost:8080/",
          "height": 484
        },
        "id": "ZcIhP8IPMD6e",
        "outputId": "3004b320-edd8-4ef6-e608-68f0a7923f7d"
      },
      "id": "ZcIhP8IPMD6e",
      "execution_count": 10,
      "outputs": [
        {
          "output_type": "stream",
          "name": "stdout",
          "text": [
            "torch.Size([12800]) torch.Size([12800])\n",
            "torch.Size([4000]) torch.Size([4000])\n",
            "torch.Size([3200]) torch.Size([3200])\n"
          ]
        },
        {
          "output_type": "display_data",
          "data": {
            "text/plain": [
              "<Figure size 640x480 with 1 Axes>"
            ],
            "image/png": "[encoded data removed]"
          },
          "metadata": {}
        }
      ]
    },
    {
      "cell_type": "code",
      "source": [],
      "metadata": {
        "id": "GD8MOMTX_KvE"
      },
      "id": "GD8MOMTX_KvE",
      "execution_count": null,
      "outputs": []
    }
  ],
  "metadata": {
    "kernelspec": {
      "display_name": "Python 3",
      "name": "python3"
    },
    "language_info": {
      "codemirror_mode": {
        "name": "ipython",
        "version": 3
      },
      "file_extension": ".py",
      "mimetype": "text/x-python",
      "name": "python",
      "nbconvert_exporter": "python",
      "pygments_lexer": "ipython3",
      "version": "3.10.12"
    },
    "colab": {
      "provenance": [],
      "gpuType": "T4"
    },
    "accelerator": "GPU"
  },
  "nbformat": 4,
  "nbformat_minor": 5
}