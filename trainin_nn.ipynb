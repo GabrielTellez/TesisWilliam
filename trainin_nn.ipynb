{
 "cells": [
  {
   "cell_type": "code",
   "execution_count": null,
   "id": "0690ea0f",
   "metadata": {},
   "outputs": [],
   "source": [
    "from neural_network.neural_network import FeedForward\n",
    "from forward_process.generate_noised_data import GenerateNoisedData\n",
    "from neural_network.preprocessing import Preprocessing\n",
    "from neural_network.training_nn import Train\n",
    "from initial_distributions.two_deltas import GenerateTwoDeltas\n",
    "from save_plot.save_files import LoadCSV\n",
    "\n",
    "import torch\n",
    "import torch.nn as nn\n",
    "import numpy as np\n",
    "from sklearn.preprocessing import StandardScaler\n",
    "\n",
    "device = torch.device(f'cuda:{torch.cuda.current_device()}') if torch.cuda.is_available() else 'cpu'\n",
    "torch.set_default_device(device)\n"
   ]
  },
  {
   "cell_type": "code",
   "execution_count": null,
   "id": "5577bcdb",
   "metadata": {},
   "outputs": [],
   "source": [
    "def TrainModel(timesteps, ndata, initial_distribution):\n",
    "\n",
    "    model = FeedForward(input_size=2,output_size=1,n_hidden_layers=2,depht=200).to(device)\n",
    "\n",
    "    features, noise = LoadCSV()\n",
    "    \n",
    "    scaler = StandardScaler()\n",
    "\n",
    "    features = scaler.fit_transform(features)\n",
    "\n",
    "    train_dl, valid_dl, test_feature, test_target = Preprocessing(features, noise)\n",
    "\n",
    "    loss_hist_train, loss_hist_valid = Train(learning_rate=0.01, model=model, num_epochs=30,\n",
    "                                           train_dl=train_dl, valid_dl=valid_dl\n",
    "                                           )\n",
    "\n",
    "    pred = model(test_feature)\n",
    "\n",
    "    loss_fn = nn.MSELoss()\n",
    "\n",
    "    test_loss = loss_fn(pred, test_target).item()\n",
    "\n",
    "    print(f'test error:  {test_loss}')\n",
    "\n",
    "    torch.save(model.state_dict(), 'model/FeedForward.pth')\n",
    "\n",
    "    return loss_hist_train, loss_hist_valid, scaler"
   ]
  },
  {
   "cell_type": "code",
   "execution_count": null,
   "id": "a4f2210d",
   "metadata": {},
   "outputs": [
    {
     "name": "stdout",
     "output_type": "stream",
     "text": [
      "Generating two deltas distribution with 200 data points...\n"
     ]
    }
   ],
   "source": [
    "ndata = 200\n",
    "train_times = 1000\n",
    "\n",
    "initial_distribution = GenerateTwoDeltas(ndata)\n",
    "GenerateNoisedData(train_times, ndata, initial_distribution)"
   ]
  },
  {
   "cell_type": "code",
   "execution_count": null,
   "id": "cb7ef563",
   "metadata": {},
   "outputs": [],
   "source": [
    "TrainModel(train_times, ndata, initial_distribution)"
   ]
  },
  {
   "cell_type": "code",
   "execution_count": null,
   "id": "1b0d8257",
   "metadata": {},
   "outputs": [],
   "source": []
  }
 ],
 "metadata": {
  "kernelspec": {
   "display_name": ".venv (3.12.7)",
   "language": "python",
   "name": "python3"
  },
  "language_info": {
   "codemirror_mode": {
    "name": "ipython",
    "version": 3
   },
   "file_extension": ".py",
   "mimetype": "text/x-python",
   "name": "python",
   "nbconvert_exporter": "python",
   "pygments_lexer": "ipython3",
   "version": "3.12.7"
  }
 },
 "nbformat": 4,
 "nbformat_minor": 5
}
