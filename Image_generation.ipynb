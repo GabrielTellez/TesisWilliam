{
  "cells": [
    {
      "cell_type": "code",
      "execution_count": 44,
      "metadata": {
        "id": "FrhY3KRWxIW9"
      },
      "outputs": [],
      "source": [
        "import torch\n",
        "import numpy as np\n",
        "import matplotlib.pyplot as plt"
      ]
    },
    {
      "cell_type": "code",
      "execution_count": 45,
      "metadata": {
        "id": "Ku70YQaQxIXC"
      },
      "outputs": [],
      "source": [
        "Ndata = 1000\n",
        "data = np.concatenate([np.ones(Ndata//2),-np.ones(Ndata//2)])"
      ]
    },
    {
      "cell_type": "code",
      "execution_count": 46,
      "metadata": {
        "collapsed": true,
        "id": "0B0-Z4ZlxIXE",
        "outputId": "96c8f272-9888-4747-e7c5-85e393606c87",
        "colab": {
          "base_uri": "https://localhost:8080/",
          "height": 447
        }
      },
      "outputs": [
        {
          "output_type": "execute_result",
          "data": {
            "text/plain": [
              "<BarContainer object of 20 artists>"
            ]
          },
          "metadata": {},
          "execution_count": 46
        },
        {
          "output_type": "display_data",
          "data": {
            "text/plain": [
              "<Figure size 640x480 with 1 Axes>"
            ],
            "image/png": "[encoded data removed]"
          },
          "metadata": {}
        }
      ],
      "source": [
        "hist, bins_ = np.histogram(data,bins=20)\n",
        "fig, ax = plt.subplots()\n",
        "\n",
        "ax.bar(bins_[:-1], hist/Ndata)"
      ]
    },
    {
      "cell_type": "code",
      "execution_count": 47,
      "metadata": {
        "id": "b8mnbmUcxIXF"
      },
      "outputs": [],
      "source": [
        "def linear_beta_schedule(steps, start=0.001, end=0.009):\n",
        "    return np.linspace(start, end, steps)\n",
        "\n",
        "def alpha_normaliced(step):\n",
        "    return np.prod(1 - linear_beta_schedule(step))\n",
        "\n",
        "def forward_process(data):\n",
        "\n",
        "  noised_data = np.zeros(len(data))\n",
        "  noise = np.zeros(len(data))\n",
        "\n",
        "  for i in range(len(data)):\n",
        "\n",
        "    time = np.random.randint(1000)\n",
        "    noise[i] = np.random.normal(0,1)\n",
        "    alpha = alpha_normaliced(time)\n",
        "    noised_data[i] = data[i] * np.sqrt(alpha) + noise[i] * np.sqrt(1-alpha)\n",
        "\n",
        "  return noised_data, noise"
      ]
    },
    {
      "cell_type": "code",
      "execution_count": 48,
      "metadata": {
        "id": "oNwimhgSxIXH"
      },
      "outputs": [],
      "source": [
        "noised_data, noise = forward_process(data)"
      ]
    },
    {
      "cell_type": "code",
      "execution_count": 49,
      "metadata": {
        "collapsed": true,
        "id": "D43ukRzTxIXI",
        "outputId": "2b869553-8e50-489b-bcdb-18b915feace5",
        "colab": {
          "base_uri": "https://localhost:8080/",
          "height": 447
        }
      },
      "outputs": [
        {
          "output_type": "execute_result",
          "data": {
            "text/plain": [
              "<BarContainer object of 200 artists>"
            ]
          },
          "metadata": {},
          "execution_count": 49
        },
        {
          "output_type": "display_data",
          "data": {
            "text/plain": [
              "<Figure size 640x480 with 1 Axes>"
            ],
            "image/png": "[encoded data removed]"
          },
          "metadata": {}
        }
      ],
      "source": [
        "hist, bins_ = np.histogram(noised_data,bins=200)\n",
        "fig, ax = plt.subplots()\n",
        "\n",
        "ax.bar(bins_[:-1], hist/Ndata)"
      ]
    },
    {
      "cell_type": "code",
      "source": [
        "from torch.utils.data import TensorDataset\n",
        "from torch.utils.data import DataLoader\n",
        "from sklearn.model_selection import train_test_split\n",
        "\n",
        "def create_dataloader(data,target):\n",
        "\n",
        "  data_tensor = torch.tensor(data, dtype=torch.float32).reshape(-1,1)\n",
        "  target_tensor = torch.tensor(target, dtype=torch.float32).reshape(-1,1)\n",
        "\n",
        "  data_ds = TensorDataset(data_tensor,target_tensor)\n",
        "  data_dl = DataLoader(data_ds, batch_size=1, shuffle=True)\n",
        "\n",
        "  return data_dl\n",
        "\n",
        "def preprocessing(data, target):\n",
        "\n",
        "  train_data_, test_data, train_target_, test_target = train_test_split(data, target, test_size=0.2)\n",
        "\n",
        "  train_data, valid_data, train_target, valid_target = train_test_split(train_data_, train_target_, test_size=0.2)\n",
        "\n",
        "  train_dl = create_dataloader(train_data, train_target)\n",
        "  valid_dl = create_dataloader(valid_data, valid_target)\n",
        "  test_dl = create_dataloader(test_data, test_target)\n",
        "\n",
        "  return train_dl, valid_dl, test_dl\n"
      ],
      "metadata": {
        "id": "ERq_RLugQjQM"
      },
      "execution_count": 50,
      "outputs": []
    },
    {
      "cell_type": "code",
      "execution_count": 51,
      "metadata": {
        "id": "r0SApgYZxIXJ"
      },
      "outputs": [],
      "source": [
        "import torch.nn as nn\n",
        "\n",
        "class Feed_forward(nn.Module):\n",
        "\n",
        "  def __init__(self, input_size, output_size,n_hidden_layers,depht):\n",
        "    super().__init__()\n",
        "\n",
        "    #Setting input and output layers\n",
        "    l = [0] * (2*n_hidden_layers + 2)\n",
        "    l[0] = nn.Linear(input_size,depht)\n",
        "    l[-1] = nn.Linear(depht,output_size)\n",
        "\n",
        "    #Assembling hidden layers\n",
        "    i = 1\n",
        "    while i <= n_hidden_layers:\n",
        "      l[i] = nn.Linear(depht,depht)\n",
        "      l[i+1] = nn.ReLU()\n",
        "      i+=2\n",
        "    #    try:\n",
        "    self.model_list = nn.ModuleList(l)\n",
        "\n",
        "#        except:\n",
        "#         print(l)\n",
        "\n",
        "  def forward(self,x):\n",
        "    for layer in self.model_list:\n",
        "      x = layer(x)\n",
        "    return x\n"
      ]
    },
    {
      "cell_type": "code",
      "source": [
        "def train(model,num_epochs,train_dl,valid_dl):\n",
        "\n",
        "    loss_hist_train = np.zeros(num_epochs)\n",
        "    loss_hist_valid = np.zeros(num_epochs)\n",
        "\n",
        "    for epoch in range(num_epochs):\n",
        "\n",
        "        for x_batch, y_batch in train_dl:\n",
        "\n",
        "          pred = model(x_batch)\n",
        "          #Define loss function\n",
        "          loss = loss_fn(pred, y_batch)\n",
        "          #Backpropagation\n",
        "          loss.backward()\n",
        "          #Apply gradient to the weights\n",
        "          optimizer.step()\n",
        "          #Make gradients zero\n",
        "          optimizer.zero_grad()\n",
        "          loss_hist_train[epoch] += loss.item()*y_batch.size(0)\n",
        "\n",
        "        for x_batch, y_batch in valid_dl:\n",
        "\n",
        "          pred = model(x_batch)\n",
        "          loss = loss_fn(pred, y_batch)\n",
        "\n",
        "          loss_hist_valid[epoch] += loss.item()*y_batch.size(0)\n",
        "\n",
        "        loss_hist_train[epoch] /= len(train_dl.dataset)\n",
        "\n",
        "    return loss_hist_train, loss_hist_valid"
      ],
      "metadata": {
        "id": "K2A_30Xg0ciR"
      },
      "execution_count": 52,
      "outputs": []
    },
    {
      "cell_type": "code",
      "source": [
        "model = Feed_forward(input_size=1,output_size=1,n_hidden_layers=1,depht=20)\n",
        "optimizer = torch.optim.Adam(model.parameters(),lr=0.001)\n",
        "loss_fn = nn.MSELoss()"
      ],
      "metadata": {
        "id": "rA8yrf912RhR"
      },
      "execution_count": 54,
      "outputs": []
    },
    {
      "cell_type": "code",
      "source": [
        "train_dl, valid_dl, test_dl = preprocessing(noised_data,noise)"
      ],
      "metadata": {
        "id": "AB_QDk0VVYKV"
      },
      "execution_count": 43,
      "outputs": []
    },
    {
      "cell_type": "code",
      "source": [
        "loss_hist_train,loss_hist_valid = train(model=model, num_epochs=10, train_dl=train_dl, valid_dl=valid_dl)"
      ],
      "metadata": {
        "id": "mG5Ui7p6Ze3S"
      },
      "execution_count": 55,
      "outputs": []
    },
    {
      "cell_type": "code",
      "source": [
        "plt.plot(loss_hist_train,label='train')\n",
        "plt.plot(loss_hist_valid,label='valid')\n",
        "plt.legend()"
      ],
      "metadata": {
        "id": "yZSwL1PVZoiX",
        "outputId": "d477b5ee-061b-41ae-e7a9-997585423b81",
        "colab": {
          "base_uri": "https://localhost:8080/",
          "height": 447
        }
      },
      "execution_count": 56,
      "outputs": [
        {
          "output_type": "execute_result",
          "data": {
            "text/plain": [
              "<matplotlib.legend.Legend at 0x7ee21730d390>"
            ]
          },
          "metadata": {},
          "execution_count": 56
        },
        {
          "output_type": "display_data",
          "data": {
            "text/plain": [
              "<Figure size 640x480 with 1 Axes>"
            ],
            "image/png": "[encoded data removed]"
          },
          "metadata": {}
        }
      ]
    },
    {
      "cell_type": "code",
      "source": [
        "plt.plot(abs(loss_hist_train-loss_hist_valid))"
      ],
      "metadata": {
        "id": "MB8XAKcuaJ35",
        "outputId": "e65aba4d-3710-4d7a-a9bf-8366cf59ee40",
        "colab": {
          "base_uri": "https://localhost:8080/",
          "height": 447
        }
      },
      "execution_count": 57,
      "outputs": [
        {
          "output_type": "execute_result",
          "data": {
            "text/plain": [
              "[<matplotlib.lines.Line2D at 0x7ee2174e9d50>]"
            ]
          },
          "metadata": {},
          "execution_count": 57
        },
        {
          "output_type": "display_data",
          "data": {
            "text/plain": [
              "<Figure size 640x480 with 1 Axes>"
            ],
            "image/png": "[encoded data removed]"
          },
          "metadata": {}
        }
      ]
    },
    {
      "cell_type": "code",
      "source": [
        "pure_noise = np.random.normal(0,1,1000)\n",
        "\n",
        "hist_noise, bins_noise = np.histogram(pure_noise,bins=20)\n",
        "fig, ax = plt.subplots()\n",
        "\n",
        "ax.bar(bins_noise[:-1], hist_noise/Ndata)"
      ],
      "metadata": {
        "id": "OSPIwaPlaUqI",
        "outputId": "d1190798-188f-4c28-be59-ddfd23c90aa9",
        "colab": {
          "base_uri": "https://localhost:8080/",
          "height": 447
        }
      },
      "execution_count": 58,
      "outputs": [
        {
          "output_type": "execute_result",
          "data": {
            "text/plain": [
              "<BarContainer object of 20 artists>"
            ]
          },
          "metadata": {},
          "execution_count": 58
        },
        {
          "output_type": "display_data",
          "data": {
            "text/plain": [
              "<Figure size 640x480 with 1 Axes>"
            ],
            "image/png": "[encoded data removed]"
          },
          "metadata": {}
        }
      ]
    },
    {
      "cell_type": "code",
      "source": [
        "T = 1000\n",
        "\n",
        "beta_schedule = linear_beta_schedule(T)\n",
        "\n",
        "distros = np.zeros((T,Ndata))\n",
        "\n",
        "distros[0] = pure_noise\n",
        "\n",
        "for t in range(1,T):\n",
        "\n",
        "  previous_t = torch.tensor(distros[t-1],dtype=torch.float32).reshape(-1,1)\n",
        "\n",
        "  beta = beta_schedule[t]\n",
        "  alpha = 1 - beta\n",
        "  alpha_normalic = alpha_normaliced(t)\n",
        "\n",
        "  z = np.random.normal(loc=0,scale=beta,size=Ndata)\n",
        "\n",
        "  deterministic_part = (previous_t - beta / np.sqrt(1 - alpha_normalic) * model(previous_t))\n",
        "\n",
        "  deterministic_part_np = deterministic_part.detach().numpy()\n",
        "\n",
        "  distros[t] = 1/np.sqrt(alpha)*deterministic_part_np + np.sqrt(beta) * z\n"
      ],
      "metadata": {
        "id": "h-nRUlzkvU7r",
        "outputId": "bb12ca88-f533-4836-9674-0aeca05a6f32",
        "colab": {
          "base_uri": "https://localhost:8080/",
          "height": 176
        }
      },
      "execution_count": 77,
      "outputs": [
        {
          "output_type": "error",
          "ename": "ValueError",
          "evalue": "could not broadcast input array from shape (1000,1000) into shape (1000,)",
          "traceback": [
            "\u001b[0;31m---------------------------------------------------------------------------\u001b[0m",
            "\u001b[0;31mValueError\u001b[0m                                Traceback (most recent call last)",
            "\u001b[0;32m<ipython-input-77-f9522ebe5164>\u001b[0m in \u001b[0;36m<cell line: 0>\u001b[0;34m()\u001b[0m\n\u001b[1;32m     21\u001b[0m   \u001b[0mdeterministic_part_np\u001b[0m \u001b[0;34m=\u001b[0m \u001b[0mdeterministic_part\u001b[0m\u001b[0;34m.\u001b[0m\u001b[0mdetach\u001b[0m\u001b[0;34m(\u001b[0m\u001b[0;34m)\u001b[0m\u001b[0;34m.\u001b[0m\u001b[0mnumpy\u001b[0m\u001b[0;34m(\u001b[0m\u001b[0;34m)\u001b[0m\u001b[0;34m\u001b[0m\u001b[0;34m\u001b[0m\u001b[0m\n\u001b[1;32m     22\u001b[0m \u001b[0;34m\u001b[0m\u001b[0m\n\u001b[0;32m---> 23\u001b[0;31m   \u001b[0mdistros\u001b[0m\u001b[0;34m[\u001b[0m\u001b[0mt\u001b[0m\u001b[0;34m]\u001b[0m \u001b[0;34m=\u001b[0m \u001b[0;36m1\u001b[0m\u001b[0;34m/\u001b[0m\u001b[0mnp\u001b[0m\u001b[0;34m.\u001b[0m\u001b[0msqrt\u001b[0m\u001b[0;34m(\u001b[0m\u001b[0malpha\u001b[0m\u001b[0;34m)\u001b[0m\u001b[0;34m*\u001b[0m\u001b[0mdeterministic_part_np\u001b[0m \u001b[0;34m+\u001b[0m \u001b[0mnp\u001b[0m\u001b[0;34m.\u001b[0m\u001b[0msqrt\u001b[0m\u001b[0;34m(\u001b[0m\u001b[0mbeta\u001b[0m\u001b[0;34m)\u001b[0m \u001b[0;34m*\u001b[0m \u001b[0mz\u001b[0m\u001b[0;34m\u001b[0m\u001b[0;34m\u001b[0m\u001b[0m\n\u001b[0m",
            "\u001b[0;31mValueError\u001b[0m: could not broadcast input array from shape (1000,1000) into shape (1000,)"
          ]
        }
      ]
    },
    {
      "cell_type": "code",
      "source": [
        "#from cycler import cycler\n",
        "\n",
        "distributions = pure_noise\n",
        "\n",
        "\n",
        "\n",
        "distributions = torch.tensor(distributions,dtype=torch.float32).reshape(-1,1)\n",
        "\n",
        "fig, ax = plt.subplots()\n",
        "\n",
        "temporal_evolution = distributions\n",
        "\n",
        "for i in range(len(distributions)):\n",
        "\n",
        "  beta = beta_schedule[i]\n",
        "  alpha = 1 - beta\n",
        "  alpha_normalic = alpha_normaliced(i+1)\n",
        "\n",
        "  z = np.random.normal(loc=0,scale=beta_schedule[i],size=(1000,1))\n",
        "  z = torch.tensor(z,dtype=torch.float32)\n",
        "\n",
        "  deterministic_part = (distributions - beta / np.sqrt(1 - alpha_normalic) * model(distributions))\n",
        "\n",
        "  distributions = 1/np.sqrt(alpha)*deterministic_part + np.sqrt(beta) * z\n",
        "\n",
        "  if i % 100 == 0:\n",
        "\n",
        "    hist_, bins_ = np.histogram(distributions.detach().numpy(),bins=20)\n",
        "\n",
        "    ax.bar(bins_[:-1], hist_/Ndata,label=f'step {i}',alpha = 0.5,width=0.4)\n",
        "\n",
        "ax.legend()"
      ],
      "metadata": {
        "id": "5QDJSINYc_hs",
        "outputId": "f45c125f-54bc-4526-eadb-8f1b35691f60",
        "colab": {
          "base_uri": "https://localhost:8080/",
          "height": 624
        }
      },
      "execution_count": 69,
      "outputs": [
        {
          "output_type": "error",
          "ename": "RuntimeError",
          "evalue": "stack expects each tensor to be equal size, but got [1000, 2, 1] at entry 0 and [1000, 1] at entry 1",
          "traceback": [
            "\u001b[0;31m---------------------------------------------------------------------------\u001b[0m",
            "\u001b[0;31mRuntimeError\u001b[0m                              Traceback (most recent call last)",
            "\u001b[0;32m<ipython-input-69-c6492393ae29>\u001b[0m in \u001b[0;36m<cell line: 0>\u001b[0;34m()\u001b[0m\n\u001b[1;32m     24\u001b[0m   \u001b[0mdistributions\u001b[0m \u001b[0;34m=\u001b[0m \u001b[0;36m1\u001b[0m\u001b[0;34m/\u001b[0m\u001b[0mnp\u001b[0m\u001b[0;34m.\u001b[0m\u001b[0msqrt\u001b[0m\u001b[0;34m(\u001b[0m\u001b[0malpha\u001b[0m\u001b[0;34m)\u001b[0m\u001b[0;34m*\u001b[0m\u001b[0mdeterministic_part\u001b[0m \u001b[0;34m+\u001b[0m \u001b[0mnp\u001b[0m\u001b[0;34m.\u001b[0m\u001b[0msqrt\u001b[0m\u001b[0;34m(\u001b[0m\u001b[0mbeta\u001b[0m\u001b[0;34m)\u001b[0m \u001b[0;34m*\u001b[0m \u001b[0mz\u001b[0m\u001b[0;34m\u001b[0m\u001b[0;34m\u001b[0m\u001b[0m\n\u001b[1;32m     25\u001b[0m \u001b[0;34m\u001b[0m\u001b[0m\n\u001b[0;32m---> 26\u001b[0;31m   \u001b[0mtemporal_evolution\u001b[0m \u001b[0;34m=\u001b[0m \u001b[0mtorch\u001b[0m\u001b[0;34m.\u001b[0m\u001b[0mstack\u001b[0m\u001b[0;34m(\u001b[0m\u001b[0;34m[\u001b[0m\u001b[0mtemporal_evolution\u001b[0m\u001b[0;34m,\u001b[0m\u001b[0mdistributions\u001b[0m\u001b[0;34m]\u001b[0m\u001b[0;34m,\u001b[0m\u001b[0maxis\u001b[0m\u001b[0;34m=\u001b[0m\u001b[0;36m1\u001b[0m\u001b[0;34m)\u001b[0m\u001b[0;34m\u001b[0m\u001b[0;34m\u001b[0m\u001b[0m\n\u001b[0m\u001b[1;32m     27\u001b[0m \u001b[0;34m\u001b[0m\u001b[0m\n\u001b[1;32m     28\u001b[0m   \u001b[0;32mif\u001b[0m \u001b[0mi\u001b[0m \u001b[0;34m%\u001b[0m \u001b[0;36m100\u001b[0m \u001b[0;34m==\u001b[0m \u001b[0;36m0\u001b[0m\u001b[0;34m:\u001b[0m\u001b[0;34m\u001b[0m\u001b[0;34m\u001b[0m\u001b[0m\n",
            "\u001b[0;31mRuntimeError\u001b[0m: stack expects each tensor to be equal size, but got [1000, 2, 1] at entry 0 and [1000, 1] at entry 1"
          ]
        },
        {
          "output_type": "display_data",
          "data": {
            "text/plain": [
              "<Figure size 640x480 with 1 Axes>"
            ],
            "image/png": "[encoded data removed]"
          },
          "metadata": {}
        }
      ]
    },
    {
      "cell_type": "code",
      "source": [],
      "metadata": {
        "id": "qanciU0awTzk",
        "outputId": "50b01ee7-97b6-43a3-ec79-823b81a26fdc",
        "colab": {
          "base_uri": "https://localhost:8080/"
        }
      },
      "execution_count": 74,
      "outputs": [
        {
          "output_type": "execute_result",
          "data": {
            "text/plain": [
              "[1, 2, 3]"
            ]
          },
          "metadata": {},
          "execution_count": 74
        }
      ]
    },
    {
      "cell_type": "code",
      "source": [
        "# prompt: convert a torch tensor to numpy\n",
        "\n",
        "# Assuming 'distributions' is your torch tensor\n",
        "distributions_np = distributions.detach().numpy()\n"
      ],
      "metadata": {
        "id": "FThKU820wWMH"
      },
      "execution_count": null,
      "outputs": []
    }
  ],
  "metadata": {
    "kernelspec": {
      "display_name": ".venv",
      "language": "python",
      "name": "python3"
    },
    "language_info": {
      "codemirror_mode": {
        "name": "ipython",
        "version": 3
      },
      "file_extension": ".py",
      "mimetype": "text/x-python",
      "name": "python",
      "nbconvert_exporter": "python",
      "pygments_lexer": "ipython3",
      "version": "3.11.9"
    },
    "colab": {
      "provenance": []
    }
  },
  "nbformat": 4,
  "nbformat_minor": 0
}