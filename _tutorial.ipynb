{
  "cells": [
    {
      "cell_type": "markdown",
      "source": [
        "## Tensores"
      ],
      "metadata": {
        "id": "h60XNh_wbwoW"
      }
    },
    {
      "cell_type": "code",
      "execution_count": null,
      "metadata": {
        "id": "ffDD79NbaoWh"
      },
      "outputs": [],
      "source": [
        "import torch\n",
        "import numpy as np"
      ]
    },
    {
      "cell_type": "code",
      "source": [
        "rand_tensor = torch.rand(2,3)\n",
        "rand_tensor"
      ],
      "metadata": {
        "id": "JcEtbsk_bpvm",
        "outputId": "439ec912-e0f3-40c0-d8d4-6dc1b8051afc",
        "colab": {
          "base_uri": "https://localhost:8080/"
        }
      },
      "execution_count": null,
      "outputs": [
        {
          "output_type": "execute_result",
          "data": {
            "text/plain": [
              "tensor([[0.8402, 0.8031, 0.2252],\n",
              "        [0.7101, 0.2750, 0.7136]])"
            ]
          },
          "metadata": {},
          "execution_count": 4
        }
      ]
    },
    {
      "cell_type": "code",
      "source": [
        "t = torch.zeros(1,2,3,4)\n",
        "t.shape"
      ],
      "metadata": {
        "id": "c7_6MxcicArE",
        "outputId": "d6c259bb-4982-4706-9a13-8b2dc22f9af9",
        "colab": {
          "base_uri": "https://localhost:8080/"
        }
      },
      "execution_count": null,
      "outputs": [
        {
          "output_type": "execute_result",
          "data": {
            "text/plain": [
              "torch.Size([1, 2, 3, 4])"
            ]
          },
          "metadata": {},
          "execution_count": 8
        }
      ]
    },
    {
      "cell_type": "code",
      "source": [
        "t_squeezed = torch.squeeze(t,0)\n",
        "t_squeezed.shape"
      ],
      "metadata": {
        "id": "NJl9BnkCcpHf",
        "outputId": "26db9fce-2561-4260-8388-c752b969b7f3",
        "colab": {
          "base_uri": "https://localhost:8080/"
        }
      },
      "execution_count": null,
      "outputs": [
        {
          "output_type": "execute_result",
          "data": {
            "text/plain": [
              "torch.Size([2, 3, 4])"
            ]
          },
          "metadata": {},
          "execution_count": 10
        }
      ]
    },
    {
      "cell_type": "code",
      "source": [
        "from torch.utils.data import DataLoader\n",
        "\n",
        "t = torch.arange(6,dtype=torch.float32)\n",
        "dataloader = DataLoader(t)"
      ],
      "metadata": {
        "id": "lalUhzuXcy22"
      },
      "execution_count": null,
      "outputs": []
    },
    {
      "cell_type": "code",
      "source": [
        "for item in dataloader:\n",
        "  print(item)"
      ],
      "metadata": {
        "id": "ewtwudDwe56n",
        "outputId": "4264f66b-96e8-4535-f3be-2a96d9c6ec2c",
        "colab": {
          "base_uri": "https://localhost:8080/"
        }
      },
      "execution_count": null,
      "outputs": [
        {
          "output_type": "stream",
          "name": "stdout",
          "text": [
            "tensor([0.])\n",
            "tensor([1.])\n",
            "tensor([2.])\n",
            "tensor([3.])\n",
            "tensor([4.])\n",
            "tensor([5.])\n"
          ]
        }
      ]
    },
    {
      "cell_type": "code",
      "source": [
        "dataloader = DataLoader(t, batch_size=2, drop_last=False)"
      ],
      "metadata": {
        "id": "drtiV-gqfCwf"
      },
      "execution_count": null,
      "outputs": []
    },
    {
      "cell_type": "code",
      "source": [
        "for i, batch in enumerate(dataloader, 1):\n",
        "  print(f\"{i}\", batch)"
      ],
      "metadata": {
        "id": "f96qyY29fVgo",
        "outputId": "69c97bb0-7503-480e-f46f-1aa132f80d96",
        "colab": {
          "base_uri": "https://localhost:8080/"
        }
      },
      "execution_count": null,
      "outputs": [
        {
          "output_type": "stream",
          "name": "stdout",
          "text": [
            "1 tensor([0., 1.])\n",
            "2 tensor([2., 3.])\n",
            "3 tensor([4., 5.])\n"
          ]
        }
      ]
    },
    {
      "cell_type": "markdown",
      "source": [
        "## NN usando pytorch"
      ],
      "metadata": {
        "id": "LYAm-yFwhd5o"
      }
    },
    {
      "cell_type": "code",
      "source": [
        "import matplotlib.pyplot as plt\n",
        "\n",
        "X_train = np.arange(10, dtype=np.float32).reshape((10,1))\n",
        "y_train = np.array([1.0,1.3,3.1,2.0,5.0,6.3,\n",
        "                    6.6,7.4,8.0,9.0], dtype='float32')\n",
        "\n",
        "plt.plot(X_train, y_train, 'o')\n",
        "plt.show()"
      ],
      "metadata": {
        "id": "wj2JOS1tfcbs",
        "outputId": "ebdecfb2-6ca5-494a-fadf-a2e69c1ce3fc",
        "colab": {
          "base_uri": "https://localhost:8080/",
          "height": 430
        }
      },
      "execution_count": null,
      "outputs": [
        {
          "output_type": "display_data",
          "data": {
            "text/plain": [
              "<Figure size 640x480 with 1 Axes>"
            ],
            "image/png": "[encoded data removed]"
          },
          "metadata": {}
        }
      ]
    },
    {
      "cell_type": "code",
      "source": [
        "from torch.utils.data import TensorDataset\n",
        "\n",
        "X_train_norm = (X_train - np.mean(X_train)) / np.std(X_train)\n",
        "X_train_norm = torch.from_numpy(X_train_norm)\n",
        "y_train = torch.from_numpy(y_train)\n",
        "\n",
        "train_ds = TensorDataset(X_train_norm, y_train)"
      ],
      "metadata": {
        "id": "tMZvIGbaiBcX",
        "outputId": "303ce4b3-d334-4ae9-e9d8-4a2843de8b2a",
        "colab": {
          "base_uri": "https://localhost:8080/"
        }
      },
      "execution_count": null,
      "outputs": [
        {
          "output_type": "execute_result",
          "data": {
            "text/plain": [
              "<torch.utils.data.dataset.TensorDataset at 0x7f1f1ab1e5d0>"
            ]
          },
          "metadata": {},
          "execution_count": 21
        }
      ]
    },
    {
      "cell_type": "code",
      "source": [
        "train_dl = DataLoader(train_ds, batch_size=1, shuffle=True)"
      ],
      "metadata": {
        "id": "SmFTk0AzikAY"
      },
      "execution_count": null,
      "outputs": []
    },
    {
      "cell_type": "code",
      "source": [
        "weight = torch.randn(1, requires_grad=True)\n",
        "bias = torch.zeros(1, requires_grad=True)\n",
        "\n",
        "def model(xb):\n",
        "  return xb * weight + bias\n",
        "\n",
        "def loss_fn(input, target):\n",
        "  return (input-target).pow(2).mean()"
      ],
      "metadata": {
        "id": "UoaUPOR_jKlh"
      },
      "execution_count": null,
      "outputs": []
    },
    {
      "cell_type": "markdown",
      "source": [
        "## Implementing a CNN"
      ],
      "metadata": {
        "id": "zuu6XMzz7xff"
      }
    },
    {
      "cell_type": "code",
      "source": [
        "from sklearn.datasets import fetch_openml\n",
        "\n",
        "mnist = fetch_openml('mnist_784', version=1)"
      ],
      "metadata": {
        "id": "h6rTF5cbjr1j"
      },
      "execution_count": 1,
      "outputs": []
    },
    {
      "cell_type": "code",
      "source": [
        "mnist_data, mnist_target = mnist['data'], mnist['target']\n",
        "\n",
        "import torch\n",
        "import numpy as np\n",
        "from sklearn.model_selection import train_test_split\n",
        "from sklearn.preprocessing import StandardScaler\n",
        "\n",
        "scaler = StandardScaler()\n",
        "\n",
        "mnist_data = StandardScaler().fit_transform(mnist_data)\n",
        "\n",
        "mnist_data_train, mnist_data_test, mnist_target_train, mnist_target_test = train_test_split(\n",
        "    mnist_data, mnist_target, test_size=0.2\n",
        "    )\n",
        "\n",
        "mnist_target_train = mnist_target_train.astype(np.int8)\n",
        "\n",
        "mnist_target_train = torch.from_numpy(mnist_target_train.to_numpy())\n"
      ],
      "metadata": {
        "id": "Ispasa6j-Acy"
      },
      "execution_count": 2,
      "outputs": []
    },
    {
      "cell_type": "code",
      "source": [
        "mnist_data_train = torch.from_numpy(mnist_data_train).reshape(-1,1,28,28)\n",
        "mnist_data_train.shape"
      ],
      "metadata": {
        "id": "vKzXKxii-ynH",
        "outputId": "bdc79101-3094-4dfa-f5b5-0eed6d575402",
        "colab": {
          "base_uri": "https://localhost:8080/"
        }
      },
      "execution_count": 3,
      "outputs": [
        {
          "output_type": "execute_result",
          "data": {
            "text/plain": [
              "torch.Size([56000, 1, 28, 28])"
            ]
          },
          "metadata": {},
          "execution_count": 3
        }
      ]
    },
    {
      "cell_type": "code",
      "source": [
        "from torch.utils.data import TensorDataset\n",
        "from torch.utils.data import DataLoader\n",
        "\n",
        "train_ds = TensorDataset(mnist_data_train, mnist_target_train)\n",
        "dl_train = DataLoader(train_ds, batch_size=64)"
      ],
      "metadata": {
        "id": "79XlQmBrD_uR"
      },
      "execution_count": 4,
      "outputs": []
    },
    {
      "cell_type": "code",
      "source": [
        "for batch in dl_train:\n",
        "  print(batch[0].shape)\n",
        "  break"
      ],
      "metadata": {
        "id": "Hvk1uN8pW_ev",
        "outputId": "09b18bd0-c16e-475c-cd23-28599b29bee5",
        "colab": {
          "base_uri": "https://localhost:8080/"
        }
      },
      "execution_count": 26,
      "outputs": [
        {
          "output_type": "stream",
          "name": "stdout",
          "text": [
            "torch.Size([64, 784])\n"
          ]
        }
      ]
    },
    {
      "cell_type": "code",
      "source": [
        "import torch.nn as nn\n",
        "\n",
        "#First convolutional layer\n",
        "model = nn.Sequential()\n",
        "model.add_module(\n",
        "    'conv1',\n",
        "    nn.Conv2d(\n",
        "        in_channels=1, out_channels=32,\n",
        "        kernel_size=5, padding=2\n",
        "    )\n",
        ")\n",
        "#Relu and pooling\n",
        "model.add_module('relu1', nn.ReLU())\n",
        "model.add_module('pool1', nn.MaxPool2d(kernel_size=2))\n",
        "#Second convolutional layer\n",
        "model.add_module(\n",
        "    'conv2',\n",
        "    nn.Conv2d(\n",
        "        in_channels=32, out_channels=64,\n",
        "        kernel_size=5, padding=2\n",
        "    )\n",
        ")\n",
        "\n",
        "#Relu and pooling\n",
        "\n",
        "model.add_module('relu2', nn.ReLU())\n",
        "model.add_module('pool2', nn.MaxPool2d(kernel_size=2))"
      ],
      "metadata": {
        "id": "VaVMCoZ5Es7i"
      },
      "execution_count": 5,
      "outputs": []
    },
    {
      "cell_type": "code",
      "source": [
        "x = torch.ones((4,1,28,28))\n",
        "model(x).shape"
      ],
      "metadata": {
        "id": "9qOR4Bdh_YkL",
        "outputId": "46c309ed-6f92-49c7-af2c-c99a5773954f",
        "colab": {
          "base_uri": "https://localhost:8080/"
        }
      },
      "execution_count": 6,
      "outputs": [
        {
          "output_type": "execute_result",
          "data": {
            "text/plain": [
              "torch.Size([4, 64, 7, 7])"
            ]
          },
          "metadata": {},
          "execution_count": 6
        }
      ]
    },
    {
      "cell_type": "code",
      "source": [
        "model.add_module('flatten',nn.Flatten())\n",
        "model(x).shape"
      ],
      "metadata": {
        "id": "hJsBOvBD-T_T",
        "outputId": "b14006db-7139-4ff9-f2d2-f61d7379668f",
        "colab": {
          "base_uri": "https://localhost:8080/"
        }
      },
      "execution_count": 7,
      "outputs": [
        {
          "output_type": "execute_result",
          "data": {
            "text/plain": [
              "torch.Size([4, 3136])"
            ]
          },
          "metadata": {},
          "execution_count": 7
        }
      ]
    },
    {
      "cell_type": "code",
      "source": [
        "model.add_module('fc1', nn.Linear(64*7*7, 1024))\n",
        "model.add_module('relu3', nn.ReLU())\n",
        "model.add_module('dropout', nn.Dropout(p=0.5))"
      ],
      "metadata": {
        "id": "AJhcnQR-_xyT"
      },
      "execution_count": 8,
      "outputs": []
    },
    {
      "cell_type": "code",
      "source": [
        "loss_fn = nn.CrossEntropyLoss()\n",
        "optimizer = torch.optim.Adam(model.parameters(), lr=0.001)"
      ],
      "metadata": {
        "id": "osdLU6s2LKV8"
      },
      "execution_count": 9,
      "outputs": []
    },
    {
      "cell_type": "code",
      "source": [
        "from sklearn.model_selection import cross_val_score\n",
        "\n",
        "def train(model, num_epochs, train_dl):\n",
        "    loss_hist_train = [0] * num_epochs\n",
        "    loss_hist_valid = [0] * num_epochs\n",
        "    #Begin in epoch cicle\n",
        "    for epoch in range(num_epochs):\n",
        "      #set the model in train mode (we need to do this because of the dropout)\n",
        "      model.train()\n",
        "\n",
        "      for x_batch, y_batch in train_dl:\n",
        "        x_batch = x_batch.float()\n",
        "        pred = model(x_batch)\n",
        "        #Define loss function\n",
        "        loss = loss = loss_fn(pred, y_batch.type(torch.LongTensor))\n",
        "        #Retropropagation\n",
        "        loss.backward()\n",
        "        #Apply gradient to the weights\n",
        "        optimizer.step()\n",
        "        #Make gradients zero\n",
        "        optimizer.zero_grad()\n",
        "        loss_hist_train[epoch] += loss.item()*y_batch.size(0)\n",
        "        #Validation mode\n",
        "        #model.eval()\n",
        "        #scores = cross_val_score(x_batch, y_batch, cv=10, scoring='log_loss')\n",
        "        #loss_hist_valid[epoch] += scores.mean()*y_batch.size(0)\n",
        "\n",
        "      #Normalice the loss record\n",
        "      loss_hist_train[epoch] /= len(train_dl.dataset)\n",
        "\n",
        "\n",
        "    return loss_hist_train, loss_hist_valid"
      ],
      "metadata": {
        "id": "1Um9UPHKLRFT"
      },
      "execution_count": 14,
      "outputs": []
    },
    {
      "cell_type": "code",
      "source": [
        "hist_train, hist_valid = train(model, num_epochs=20, train_dl=dl_train)"
      ],
      "metadata": {
        "id": "oqtEf-D-RbSt"
      },
      "execution_count": 15,
      "outputs": []
    },
    {
      "cell_type": "code",
      "source": [
        "import matplotlib.pyplot as plt\n",
        "\n",
        "plt.plot(hist_train, label='train')\n",
        "#plt.plot(hist_valid, label='valid')\n",
        "plt.legend()\n",
        "plt.show()"
      ],
      "metadata": {
        "id": "_EMrUvv0TpDZ",
        "outputId": "95ca97f7-8782-49c1-a370-f251af9a0160",
        "colab": {
          "base_uri": "https://localhost:8080/",
          "height": 430
        }
      },
      "execution_count": 16,
      "outputs": [
        {
          "output_type": "display_data",
          "data": {
            "text/plain": [
              "<Figure size 640x480 with 1 Axes>"
            ],
            "image/png": "[encoded data removed]"
          },
          "metadata": {}
        }
      ]
    },
    {
      "cell_type": "code",
      "source": [],
      "metadata": {
        "id": "dZsNwfcVvBcS"
      },
      "execution_count": null,
      "outputs": []
    }
  ],
  "metadata": {
    "kernelspec": {
      "display_name": ".venv",
      "language": "python",
      "name": "python3"
    },
    "language_info": {
      "codemirror_mode": {
        "name": "ipython",
        "version": 3
      },
      "file_extension": ".py",
      "mimetype": "text/x-python",
      "name": "python",
      "nbconvert_exporter": "python",
      "pygments_lexer": "ipython3",
      "version": "3.11.9"
    },
    "colab": {
      "provenance": []
    }
  },
  "nbformat": 4,
  "nbformat_minor": 0
}